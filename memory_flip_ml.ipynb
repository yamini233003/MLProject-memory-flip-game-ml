{
 "cells": [
  {
   "cell_type": "markdown",
   "id": "00c58386",
   "metadata": {},
   "source": [
    "# 🧠 Memory Flip ML Model\n",
    "This notebook trains a Random Forest model to predict game difficulty based on gameplay features."
   ]
  },
  {
   "cell_type": "code",
   "execution_count": null,
   "id": "6da8c3c8",
   "metadata": {},
   "outputs": [],
   "source": [
    "\n",
    "import pandas as pd\n",
    "import numpy as np\n",
    "from sklearn.ensemble import RandomForestClassifier\n",
    "from sklearn.model_selection import train_test_split\n",
    "from sklearn.metrics import classification_report, confusion_matrix\n",
    "import matplotlib.pyplot as plt\n"
   ]
  },
  {
   "cell_type": "markdown",
   "id": "0a117982",
   "metadata": {},
   "source": [
    "## Step 1: Generate Dummy Data"
   ]
  },
  {
   "cell_type": "code",
   "execution_count": null,
   "id": "2b96af2c",
   "metadata": {},
   "outputs": [],
   "source": [
    "\n",
    "np.random.seed(42)\n",
    "data = {\n",
    "    'grid_size': np.random.choice([4, 6, 8], 200),\n",
    "    'num_symbols': np.random.choice([8, 18, 32], 200),\n",
    "    'allowed_mistakes': np.random.choice([5, 10, 15], 200),\n",
    "    'time_to_solve': np.random.randint(30, 300, 200)\n",
    "}\n",
    "df = pd.DataFrame(data)\n",
    "df.head()\n"
   ]
  },
  {
   "cell_type": "markdown",
   "id": "835eb487",
   "metadata": {},
   "source": [
    "## Step 2: Label Difficulty"
   ]
  },
  {
   "cell_type": "code",
   "execution_count": null,
   "id": "85722742",
   "metadata": {},
   "outputs": [],
   "source": [
    "\n",
    "def label_difficulty(row):\n",
    "    if row['time_to_solve'] < 60:\n",
    "        return 'Easy'\n",
    "    elif row['time_to_solve'] < 150:\n",
    "        return 'Medium'\n",
    "    else:\n",
    "        return 'Hard'\n",
    "\n",
    "df['difficulty'] = df.apply(label_difficulty, axis=1)\n",
    "df.head()\n"
   ]
  },
  {
   "cell_type": "markdown",
   "id": "a629693f",
   "metadata": {},
   "source": [
    "## Step 3: Train/Test Split"
   ]
  },
  {
   "cell_type": "code",
   "execution_count": null,
   "id": "67f369d0",
   "metadata": {},
   "outputs": [],
   "source": [
    "\n",
    "X = df[['grid_size', 'num_symbols', 'allowed_mistakes', 'time_to_solve']]\n",
    "y = df['difficulty']\n",
    "X_train, X_test, y_train, y_test = train_test_split(X, y, test_size=0.3, random_state=42)\n"
   ]
  },
  {
   "cell_type": "markdown",
   "id": "c7bf487b",
   "metadata": {},
   "source": [
    "## Step 4: Train the Random Forest Model"
   ]
  },
  {
   "cell_type": "code",
   "execution_count": null,
   "id": "5ed886bf",
   "metadata": {},
   "outputs": [],
   "source": [
    "\n",
    "model = RandomForestClassifier(n_estimators=100, random_state=42)\n",
    "model.fit(X_train, y_train)\n"
   ]
  },
  {
   "cell_type": "markdown",
   "id": "29fc7a55",
   "metadata": {},
   "source": [
    "## Step 5: Evaluate Model"
   ]
  },
  {
   "cell_type": "code",
   "execution_count": null,
   "id": "f005eeba",
   "metadata": {},
   "outputs": [],
   "source": [
    "\n",
    "predictions = model.predict(X_test)\n",
    "print(confusion_matrix(y_test, predictions))\n",
    "print(classification_report(y_test, predictions))\n"
   ]
  },
  {
   "cell_type": "markdown",
   "id": "ff8608ea",
   "metadata": {},
   "source": [
    "## Step 6: Feature Importance"
   ]
  },
  {
   "cell_type": "code",
   "execution_count": null,
   "id": "1d74b0f2",
   "metadata": {},
   "outputs": [],
   "source": [
    "\n",
    "importances = model.feature_importances_\n",
    "features = X.columns\n",
    "indices = np.argsort(importances)\n",
    "\n",
    "plt.figure(figsize=(8,5))\n",
    "plt.title('Feature Importances')\n",
    "plt.barh(range(len(indices)), importances[indices], color='b', align='center')\n",
    "plt.yticks(range(len(indices)), [features[i] for i in indices])\n",
    "plt.xlabel('Relative Importance')\n",
    "plt.show()\n"
   ]
  }
 ],
 "metadata": {},
 "nbformat": 4,
 "nbformat_minor": 5
}
